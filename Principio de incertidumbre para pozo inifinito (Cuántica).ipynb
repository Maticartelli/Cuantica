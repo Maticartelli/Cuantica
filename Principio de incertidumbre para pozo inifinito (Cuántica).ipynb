{
 "cells": [
  {
   "cell_type": "code",
   "execution_count": 232,
   "metadata": {},
   "outputs": [],
   "source": [
    "# importo sympy\n",
    "import sympy as sy\n",
    "from sympy import init_printing,pi,symbols,sqrt,sin,Function,integrate,oo,diff,I, conjugate\n",
    "from sympy.physics.quantum.constants import hbar\n",
    "import scipy.constants as scc\n",
    "init_printing()\n",
    "\n",
    "# Definimos las funciones phi(n,L,x) función de pozo infinito\n",
    "x = symbols('x', real=True)\n",
    "L = symbols('L', real=True,positive=True)\n",
    "n = symbols('n', integer=True,positive=True)\n",
    "\n",
    "def phi(n,L,x):\n",
    "    arg =   n * (pi / L) * x \n",
    "    psi =  sqrt(2/L) *  sin(arg)\n",
    "    return psi"
   ]
  },
  {
   "cell_type": "code",
   "execution_count": 233,
   "metadata": {},
   "outputs": [],
   "source": [
    "import cmath "
   ]
  },
  {
   "cell_type": "code",
   "execution_count": 234,
   "metadata": {},
   "outputs": [
    {
     "data": {
      "image/png": "[encoded data removed]",
      "text/latex": [
       "$$0$$"
      ],
      "text/plain": [
       "0"
      ]
     },
     "execution_count": 234,
     "metadata": {},
     "output_type": "execute_result"
    }
   ],
   "source": [
    "h = hbar\n",
    "n1 = n2 = n\n",
    "def momento (f,x) : #acá defino el operador momento\n",
    "    j = sqrt(-1)\n",
    "    pp = -j*h * diff(f,x)\n",
    "    return pp\n",
    "p = momento(phi(n2,L,x),x)\n",
    "sy.simplify (integrate(phi(n,L,x)*p,(x,0,L))) #acá está <p>"
   ]
  },
  {
   "cell_type": "code",
   "execution_count": 235,
   "metadata": {},
   "outputs": [
    {
     "data": {
      "image/png": "[encoded data removed]",
      "text/latex": [
       "$$\\frac{\\pi^{2} n^{2}}{L^{2}} \\hbar^{2}$$"
      ],
      "text/plain": [
       " 2  2  2\n",
       "ℏ ⋅π ⋅n \n",
       "────────\n",
       "    2   \n",
       "   L    "
      ]
     },
     "execution_count": 235,
     "metadata": {},
     "output_type": "execute_result"
    }
   ],
   "source": [
    "# ahora calculo <p^2> \n",
    "def momento2 (f,x) : #acá defino el operador momento al cuadrado\n",
    "    j = sqrt(-1)\n",
    "    p2 = -(h**2)*diff(f,x,x)\n",
    "    return p2\n",
    "p22 = momento2 (phi(n,L,x),x)\n",
    "sy.simplify (integrate(phi(n,L,x)*(p22),(x,0,L))) #este es <p^2>\n"
   ]
  },
  {
   "cell_type": "code",
   "execution_count": 236,
   "metadata": {},
   "outputs": [
    {
     "data": {
      "image/png": "[encoded data removed]",
      "text/latex": [
       "$$\\frac{L}{2}$$"
      ],
      "text/plain": [
       "L\n",
       "─\n",
       "2"
      ]
     },
     "execution_count": 236,
     "metadata": {},
     "output_type": "execute_result"
    }
   ],
   "source": [
    "#calculo los deltas x y p para el principio de incertidumbre tal que:\n",
    "def xmed(n,L): \n",
    "    y = integrate(phi(n,L,x)*x*phi(n,L,x),(x,0,L)) \n",
    "    return sy.simplify(y)\n",
    "xmed (n,L) #acá calculo <x> "
   ]
  },
  {
   "cell_type": "code",
   "execution_count": 237,
   "metadata": {},
   "outputs": [
    {
     "data": {
      "image/png": "[encoded data removed]",
      "text/latex": [
       "$$\\frac{L^{2}}{3} - \\frac{L^{2}}{2 \\pi^{2} n^{2}}$$"
      ],
      "text/plain": [
       " 2       2  \n",
       "L       L   \n",
       "── - ───────\n",
       "3       2  2\n",
       "     2⋅π ⋅n "
      ]
     },
     "execution_count": 237,
     "metadata": {},
     "output_type": "execute_result"
    }
   ],
   "source": [
    "def xmed2 (n,L) :\n",
    "    z = integrate(phi(n,L,x)*(x**2)*phi(n,L,x),(x,0,L)) \n",
    "    return sy.simplify(z)\n",
    "sy.simplify(xmed2(n,L)) #acá calculo <x^2> \n",
    " "
   ]
  },
  {
   "cell_type": "code",
   "execution_count": 238,
   "metadata": {},
   "outputs": [
    {
     "data": {
      "image/png": "[encoded data removed]",
      "text/latex": [
       "$$\\frac{L \\sqrt{3 \\pi^{2} n^{2} - 18}}{6 \\pi n}$$"
      ],
      "text/plain": [
       "     ______________\n",
       "    ╱    2  2      \n",
       "L⋅╲╱  3⋅π ⋅n  - 18 \n",
       "───────────────────\n",
       "       6⋅π⋅n       "
      ]
     },
     "execution_count": 238,
     "metadata": {},
     "output_type": "execute_result"
    }
   ],
   "source": [
    "#entonces Delta x se escribe como sigma x al cuadrado\n",
    "def Deltax (n,L):\n",
    "    return sy.simplify(sqrt(xmed2 (n,L) -(xmed (n,L))**2))\n",
    "Deltax (n,L)"
   ]
  },
  {
   "cell_type": "code",
   "execution_count": 239,
   "metadata": {},
   "outputs": [
    {
     "data": {
      "image/png": "[encoded data removed]",
      "text/latex": [
       "$$\\frac{\\pi n}{L} \\hbar$$"
      ],
      "text/plain": [
       "ℏ⋅π⋅n\n",
       "─────\n",
       "  L  "
      ]
     },
     "execution_count": 239,
     "metadata": {},
     "output_type": "execute_result"
    }
   ],
   "source": [
    "#por lo que Delta p es:\n",
    "def Deltap(n,L):\n",
    "    return sy.simplify (sqrt(sy.simplify (integrate(phi(n,L,x)*(p22),(x,0,L))) -(sy.simplify (integrate(phi(n,L,x)*p,(x,0,L))))**2))\n",
    "Deltap (n,L)"
   ]
  },
  {
   "cell_type": "code",
   "execution_count": 240,
   "metadata": {},
   "outputs": [
    {
     "data": {
      "image/png": "[encoded data removed]",
      "text/latex": [
       "$$\\frac{\\hbar}{6} \\sqrt{3 \\pi^{2} n^{2} - 18}$$"
      ],
      "text/plain": [
       "     ______________\n",
       "    ╱    2  2      \n",
       "ℏ⋅╲╱  3⋅π ⋅n  - 18 \n",
       "───────────────────\n",
       "         6         "
      ]
     },
     "execution_count": 240,
     "metadata": {},
     "output_type": "execute_result"
    }
   ],
   "source": [
    "#Tomo ahora la multiplicación de ambos deltas para obtener el principio de incertidumbre:\n",
    "ppio = Deltap(n,L) * Deltax (n,L)\n",
    "\n",
    "ppio"
   ]
  },
  {
   "cell_type": "code",
   "execution_count": 241,
   "metadata": {},
   "outputs": [
    {
     "data": {
      "image/png": "[encoded data removed]",
      "text/latex": [
       "$$5.98850947206399 \\cdot 10^{-35}$$"
      ],
      "text/plain": [
       "5.98850947206399e-35"
      ]
     },
     "execution_count": 241,
     "metadata": {},
     "output_type": "execute_result"
    }
   ],
   "source": [
    "# pruebo para n = 1 y si me da mayor a h/2 funciona...\n",
    "pio = ppio.subs(n,1)\n",
    "pio.evalf()"
   ]
  },
  {
   "cell_type": "code",
   "execution_count": 242,
   "metadata": {},
   "outputs": [
    {
     "name": "stdout",
     "output_type": "stream",
     "text": [
      "Funciona el principio de incertidumbre\n"
     ]
    }
   ],
   "source": [
    "if pio.evalf() >= h/2: # comparo con hbar/2\n",
    "    print (\"Funciona el principio de incertidumbre\")"
   ]
  },
  {
   "cell_type": "code",
   "execution_count": 264,
   "metadata": {},
   "outputs": [
    {
     "data": {
      "image/png": "[encoded data removed]",
      "text/latex": [
       "$$5.988510495005211e-35$$"
      ],
      "text/plain": [
       "5.988510495005211e-35"
      ]
     },
     "execution_count": 264,
     "metadata": {},
     "output_type": "execute_result"
    }
   ],
   "source": [
    "import numpy as np\n",
    "m = symbols('m', integer = True, positive=True)\n",
    "def Ppio(m):# defino a ppio como función de n\n",
    "    return (scc.hbar/6) * np.sqrt(3*(np.pi**2) * (m**2) -18)\n",
    "Ppio(1)"
   ]
  },
  {
   "cell_type": "code",
   "execution_count": 307,
   "metadata": {},
   "outputs": [
    {
     "data": {
      "image/png": "[encoded data removed]",
      "text/plain": [
       "<Figure size 432x288 with 1 Axes>"
      ]
     },
     "metadata": {
      "needs_background": "light"
     },
     "output_type": "display_data"
    }
   ],
   "source": [
    "import matplotlib.pyplot as plt\n",
    "\n",
    "\n",
    "m = np.arange(1,5,1)\n",
    "plt.plot(m,Ppio(m),\"ko\", label= \"Valor de ppio en función de n\")\n",
    "plt.hlines(y=scc.hbar/2, xmin=1, xmax=4, lw=1, color='r', label = \"Valor de hbar/2\")\n",
    "plt.ylabel(\"Valor del Principio de incertidumbre\")\n",
    "plt.xlabel(\"Valor de n\")\n",
    "plt.xticks(np.arange(1,5,1))\n",
    "plt.yticks(np.arange(Ppio(1),Ppio(4), Ppio(1)))\n",
    "plt.legend()\n",
    "plt.grid(True)#Gráfico de los distintos valores del ppio de incertidumbre en función de n comparados con hbar/2"
   ]
  },
  {
   "cell_type": "code",
   "execution_count": null,
   "metadata": {},
   "outputs": [],
   "source": []
  }
 ],
 "metadata": {
  "kernelspec": {
   "display_name": "Python 3",
   "language": "python",
   "name": "python3"
  },
  "language_info": {
   "codemirror_mode": {
    "name": "ipython",
    "version": 3
   },
   "file_extension": ".py",
   "mimetype": "text/x-python",
   "name": "python",
   "nbconvert_exporter": "python",
   "pygments_lexer": "ipython3",
   "version": "3.8.3"
  }
 },
 "nbformat": 4,
 "nbformat_minor": 2
}
