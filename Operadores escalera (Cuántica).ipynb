{
 "cells": [
  {
   "cell_type": "code",
   "execution_count": 139,
   "metadata": {},
   "outputs": [
    {
     "data": {
      "image/png": "[encoded data removed]",
      "text/latex": [
       "$$\\frac{\\sqrt{2} x}{\\sqrt[4]{\\pi}} w^{\\frac{3}{4}} e^{- \\frac{w x^{2}}{2}}$$"
      ],
      "text/plain": [
       "               2 \n",
       "           -w⋅x  \n",
       "           ──────\n",
       "    3/4      2   \n",
       "√2⋅w   ⋅x⋅ℯ      \n",
       "─────────────────\n",
       "      4 ___      \n",
       "      ╲╱ π       "
      ]
     },
     "execution_count": 139,
     "metadata": {},
     "output_type": "execute_result"
    }
   ],
   "source": [
    "import sympy as sy\n",
    "from sympy import *\n",
    "init_printing()\n",
    "w = Symbol ('w', real=True, positive = True)\n",
    "x= Symbol ('x', real = True, positive = True)\n",
    "n = Symbol ('n',integer = True)\n",
    "e = Symbol('e', Real = True)\n",
    "j = sqrt(-1)#------------------> aca defino algunas cositas utiles.\n",
    "e = sqrt(w)*x\n",
    
    "def fact(n):#------------> defino el factorial\n",
    "    if n == 0:\n",
    "        return 1\n",
    "    else:\n",
    "        return n * fact(n-1)\n",
    "# Defino el operador hamilotiniano: h = 1, m=1 uso unidades arbitrarias\n",
    "def H(f,x): \n",
    "    return -diff(f,x,x)/2 + ((w**2) /2)* x**2 *f\n",
    "#defino operadores a y a_\n",
    "def a_(f,x):\n",
    "    return ( j*w * x * f - j*diff(f,x))/sqrt(2)\n",
    "def a(f,x):\n",
    "    return (-j*w * x * f - j*diff(f,x))/sqrt(2) \n",
    "def psi(n,e):# -----------------------------> Defino las soluciones a Schrödinger analíticamente\n",
    "    return simplify((1/sqrt((2**n) * fact(n))) * sy.hermite(n,e) * sy.exp((-e**2)/2) * sqrt(sqrt(w/pi)))\n",
    "psi (0,e)# -------------> probé y funciona."
   ]
  },
  {
   "cell_type": "code",
   "execution_count": 140,
   "metadata": {},
   "outputs": [
    {
     "data": {
      "image/png": "[encoded data removed]",
      "text/latex": [
       "$$\\frac{w}{2}$$"
      ],
      "text/plain": [
       "w\n",
       "─\n",
       "2"
      ]
     },
     "execution_count": 140,
     "metadata": {},
     "output_type": "execute_result"
    }
   ],
   "source": [
    "simplify(H(psi(0,e),x)/psi(0,e)) #-------------> energía del estado fundamental en a.u (con Schrödinger), funciona para todos los estados."
   ]
  },
  {
   "cell_type": "code",
   "execution_count": 141,
   "metadata": {},
   "outputs": [
    {
     "data": {
      "image/png": "[encoded data removed]",
      "text/latex": [
       "$$2 w$$"
      ],
      "text/plain": [
       "2⋅w"
      ]
     },
     "execution_count": 141,
     "metadata": {},
     "output_type": "execute_result"
    }
   ],
   "source": [
    "integrate(conjugate(a_(psi(1,e),x))*a_(psi(1,e),x), (x,-oo,oo)) #-----------> aca chequeo normalización"
   ]
  },
  {
   "cell_type": "code",
   "execution_count": 142,
   "metadata": {},
   "outputs": [],
   "source": [
    "#defino las \"normalizaciones\" para a_ y a:\n",
    "def N_(n):\n",
    "    return j * sqrt(w*(n+1))\n",
    "def N(n):\n",
    "    return -j * sqrt(w*n)\n",
    "#ahora defino un operador tal que pase de psi(n,e) a psi(n+-1,e).\n",
    "def A_(n,x):# ------------------------> basicamente quiero que al aplicar a+/a- me devuelva el modo siguiente/anterior y asi.\n",
    "    return simplify(a_(psi(n,e),x)/N_(n))\n",
    "def A(n,x):\n",
    "    if psi(n,e)==psi(0,e):\n",
    "        return 0;\n",
    "    return simplify(a(psi(n,e),x)/N(n))"
   ]
  },
  {
   "cell_type": "markdown",
   "metadata": {},
   "source": [
    "Listo ahora ya estan definidos a+ y a-, aca abajo se puede chequear que funcionan, la primer celda contiene el operador que sube de estado, solo hay que cambiar el n, la segunda contiene a la función psi para poder apreciar, y la tercer celda contiene el operador que baja de estado. (Estan puestos de manera tal que todos den el mismo estado para ver que efectivamente dan lo mismo y funcionan)."
   ]
  },
  {
   "cell_type": "code",
   "execution_count": 151,
   "metadata": {},
   "outputs": [
    {
     "data": {
      "image/png": "[encoded data removed]",
      "text/latex": [
       "$$\\frac{\\sqrt{2} x}{\\sqrt[4]{\\pi}} w^{\\frac{3}{4}} e^{- \\frac{w x^{2}}{2}}$$"
      ],
      "text/plain": [
       "               2 \n",
       "           -w⋅x  \n",
       "           ──────\n",
       "    3/4      2   \n",
       "√2⋅w   ⋅x⋅ℯ      \n",
       "─────────────────\n",
       "      4 ___      \n",
       "      ╲╱ π       "
      ]
     },
     "execution_count": 151,
     "metadata": {},
     "output_type": "execute_result"
    }
   ],
   "source": [
    "A_(0,x)"
   ]
  },
  {
   "cell_type": "code",
   "execution_count": 152,
   "metadata": {},
   "outputs": [
    {
     "data": {
      "image/png": "[encoded data removed]",
      "text/latex": [
       "$$\\frac{\\sqrt{2} x}{\\sqrt[4]{\\pi}} w^{\\frac{3}{4}} e^{- \\frac{w x^{2}}{2}}$$"
      ],
      "text/plain": [
       "               2 \n",
       "           -w⋅x  \n",
       "           ──────\n",
       "    3/4      2   \n",
       "√2⋅w   ⋅x⋅ℯ      \n",
       "─────────────────\n",
       "      4 ___      \n",
       "      ╲╱ π       "
      ]
     },
     "execution_count": 152,
     "metadata": {},
     "output_type": "execute_result"
    }
   ],
   "source": [
    "simplify(psi(1,e))"
   ]
  },
  {
   "cell_type": "code",
   "execution_count": 150,
   "metadata": {},
   "outputs": [
    {
     "data": {
      "image/png": "[encoded data removed]",
      "text/latex": [
       "$$\\frac{\\sqrt{2} x}{\\sqrt[4]{\\pi}} w^{\\frac{3}{4}} e^{- \\frac{w x^{2}}{2}}$$"
      ],
      "text/plain": [
       "               2 \n",
       "           -w⋅x  \n",
       "           ──────\n",
       "    3/4      2   \n",
       "√2⋅w   ⋅x⋅ℯ      \n",
       "─────────────────\n",
       "      4 ___      \n",
       "      ╲╱ π       "
      ]
     },
     "execution_count": 150,
     "metadata": {},
     "output_type": "execute_result"
    }
   ],
   "source": [
    "A(2,x)"
   ]
  },
  {
   "cell_type": "code",
   "execution_count": null,
   "metadata": {},
   "outputs": [],
   "source": []
  }
 ],
 "metadata": {
  "kernelspec": {
   "display_name": "Python 3",
   "language": "python",
   "name": "python3"
  },
  "language_info": {
   "codemirror_mode": {
    "name": "ipython",
    "version": 3
   },
   "file_extension": ".py",
   "mimetype": "text/x-python",
   "name": "python",
   "nbconvert_exporter": "python",
   "pygments_lexer": "ipython3",
   "version": "3.8.3"
  }
 },
 "nbformat": 4,
 "nbformat_minor": 2
}
